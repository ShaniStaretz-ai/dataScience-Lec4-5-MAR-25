{
 "cells": [
  {
   "cell_type": "code",
   "execution_count": 12,
   "id": "d3e93e03-429a-40da-a810-148b3c732ef3",
   "metadata": {},
   "outputs": [
    {
     "data": {
      "text/plain": [
       "array([18, 19, 20, 21, 22, 23, 24, 25, 26, 27, 28, 29, 30, 31, 32, 33, 34,\n",
       "       35, 36, 37, 38, 39, 40, 41, 42, 43, 44, 45, 46, 47, 48, 49, 50, 51,\n",
       "       52, 53])"
      ]
     },
     "metadata": {},
     "output_type": "display_data"
    },
    {
     "data": {
      "text/plain": [
       "array([[18, 19, 20, 21, 22, 23],\n",
       "       [24, 25, 26, 27, 28, 29],\n",
       "       [30, 31, 32, 33, 34, 35],\n",
       "       [36, 37, 38, 39, 40, 41],\n",
       "       [42, 43, 44, 45, 46, 47],\n",
       "       [48, 49, 50, 51, 52, 53]])"
      ]
     },
     "metadata": {},
     "output_type": "display_data"
    },
    {
     "name": "stdout",
     "output_type": "stream",
     "text": [
      "arr2[row=4][col=3]+17=55\n"
     ]
    }
   ],
   "source": [
    "#1. hidden number:\n",
    "import numpy as np\n",
    "from IPython.display import display\n",
    "arr1=np.arange(18,54)\n",
    "display(arr1)\n",
    "arr2=np.reshape(arr1,(6,-1))\n",
    "display(arr2)\n",
    "print(f\"arr2[row=4][col=3]+17={arr2[3][2]+17}\")"
   ]
  },
  {
   "cell_type": "code",
   "execution_count": 26,
   "id": "96c4063c-04d1-4e9f-9a2a-6b5997d0cc3c",
   "metadata": {},
   "outputs": [
    {
     "name": "stdout",
     "output_type": "stream",
     "text": [
      "[[52 93 15 72 61]\n",
      " [21 83 87 75 75]\n",
      " [88 24  3 22 53]\n",
      " [ 2 88 30 38  2]\n",
      " [64 60 21 33 76]]\n",
      "max: 93\n",
      "max_num/2+7=53.5\n"
     ]
    }
   ],
   "source": [
    "np.random.seed(42)\n",
    "arr3=np.random.randint(1,100,(5,5))\n",
    "print(arr3)\n",
    "max_num=arr3.max()\n",
    "print(\"max:\",max_num)\n",
    "print(f\"max_num/2+7={max_num/2+7}\")"
   ]
  },
  {
   "cell_type": "code",
   "execution_count": null,
   "id": "6a0193d6-59e1-41de-8a95-fe4d99388c5c",
   "metadata": {},
   "outputs": [],
   "source": []
  }
 ],
 "metadata": {
  "kernelspec": {
   "display_name": "Python [conda env:base] *",
   "language": "python",
   "name": "conda-base-py"
  },
  "language_info": {
   "codemirror_mode": {
    "name": "ipython",
    "version": 3
   },
   "file_extension": ".py",
   "mimetype": "text/x-python",
   "name": "python",
   "nbconvert_exporter": "python",
   "pygments_lexer": "ipython3",
   "version": "3.12.7"
  }
 },
 "nbformat": 4,
 "nbformat_minor": 5
}
